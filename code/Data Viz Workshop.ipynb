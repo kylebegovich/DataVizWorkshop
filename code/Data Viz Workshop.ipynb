{
 "cells": [
  {
   "cell_type": "markdown",
   "metadata": {},
   "source": [
    "# Everything you need to know about: Data Visualization in Python\n",
    "\n",
    "_The original article can be found on medium, titled [Complete Guide to Data Visualization with Python](https://towardsdatascience.com/complete-guide-to-data-visualization-with-python-2dd74df12b5e)_\n",
    "\n",
    "Let's see the main libraries for data visualization with Python and all the types of charts that can be done with them. We will also see which library is recommended to use on each occasion and the unique capabilities of each library.\n",
    "\n",
    "We will start with the most basic visualization that is looking at the data directly, then we will move on to plotting charts and finally, we will make interactive charts."
   ]
  },
  {
   "cell_type": "markdown",
   "metadata": {},
   "source": [
    "### Datasets\n",
    "\n",
    "We will work with two datasets that will adapt to the visualizations we show in the workshop. The datasets are in the `datasets` directory in this repository, and the datasets can also be downloaded [here](https://github.com/albertsl/datasets/tree/master/popularidad).\n",
    "\n",
    "The datasets are on the popularity of searches on the Internet for three terms related to artificial intelligence (data science, machine learning and deep learning). They have been extracted from a famous search engine.\n",
    "\n",
    "There are two files `temporal.csv` and `mapa.csv`. The first one we will use in the vast majority of the tutorial includes popularity data of the three terms over time (from 2004 to the present, 2020). In addition, I have added a categorical variable (ones and zeros) to demonstrate the functionality of charts with categorical variables.\n",
    "\n",
    "The file `mapa.csv` includes popularity data separated by country. We will use it in the last section of the article when working with maps."
   ]
  },
  {
   "cell_type": "markdown",
   "metadata": {},
   "source": [
    "## Pandas\n",
    "\n",
    "Before we move on to more complex methods, let's start with the most basic way of visualizing data. We will simply use pandas to take a look at the data and get an idea of how it is distributed.\n",
    "\n",
    "The first thing we must do is visualize a few examples to see what columns there are, what information they contain, how the values are coded, etc."
   ]
  },
  {
   "cell_type": "code",
   "execution_count": null,
   "metadata": {},
   "outputs": [],
   "source": [
    "import pandas as pd\n",
    "df = pd.read_csv('../datasets/temporal.csv')\n",
    "df.head(10) #View first 10 data rows"
   ]
  },
  {
   "cell_type": "markdown",
   "metadata": {},
   "source": [
    "With the command `describe` we will see how the data is distributed, the maximums, the minimums, the mean, etc."
   ]
  },
  {
   "cell_type": "code",
   "execution_count": null,
   "metadata": {},
   "outputs": [],
   "source": [
    "df.describe()"
   ]
  },
  {
   "cell_type": "markdown",
   "metadata": {},
   "source": [
    "With the `info` command we will see what type of data each column includes. We could find the case of a column that when viewed with the head command seems numeric but if we look at subsequent data there are values in string format, then the variable will be coded as a string."
   ]
  },
  {
   "cell_type": "code",
   "execution_count": null,
   "metadata": {},
   "outputs": [],
   "source": [
    "df.info()"
   ]
  },
  {
   "cell_type": "markdown",
   "metadata": {},
   "source": [
    "By default, pandas limits the number of rows and columns it displays. This, among other things in Pandas, is modifiable. Here we set the max higher to allow us to see everything at once.\n",
    "\n",
    "With these commands, we increase the limits and we can visualize the whole data. Be careful with this option for big datasets, we can have problems showing them."
   ]
  },
  {
   "cell_type": "code",
   "execution_count": null,
   "metadata": {},
   "outputs": [],
   "source": [
    "pd.set_option('display.max_rows', 500)\n",
    "pd.set_option('display.max_columns', 500)\n",
    "pd.set_option('display.width', 1000)"
   ]
  },
  {
   "cell_type": "markdown",
   "metadata": {},
   "source": [
    "See the data now:"
   ]
  },
  {
   "cell_type": "code",
   "execution_count": null,
   "metadata": {},
   "outputs": [],
   "source": [
    "df"
   ]
  },
  {
   "cell_type": "markdown",
   "metadata": {},
   "source": [
    "Using Pandas styles, we can get much more information when viewing the table. First, we define a format dictionary so that the numbers are shown in a legible way (with a certain number of decimals, date and hour in a relevant format, with a percentage, with a currency, etc.) Don’t panic, this is only a display and does not change the data, you will not have any problem to process it later.\n",
    "\n",
    "To give an example of each type, here there are currency and percentage symbols even though they do not make any sense for this data."
   ]
  },
  {
   "cell_type": "code",
   "execution_count": null,
   "metadata": {},
   "outputs": [],
   "source": [
    "format_dict = {'data science':'${0:,.2f}', 'Mes':'{:%m-%Y}', 'machine learning':'{:.2%}'}\n",
    "#We make sure that the Month column has datetime format\n",
    "df['Mes'] = pd.to_datetime(df['Mes'])\n",
    "#We apply the style to the visualization\n",
    "df.head().style.format(format_dict)"
   ]
  },
  {
   "cell_type": "markdown",
   "metadata": {},
   "source": [
    "We can highlight maximum and minimum values with colors too:"
   ]
  },
  {
   "cell_type": "code",
   "execution_count": null,
   "metadata": {},
   "outputs": [],
   "source": [
    "format_dict = {'Mes':'{:%m-%Y}'} #Simplified format dictionary with values that do make sense for our data\n",
    "df.head().style.format(format_dict).highlight_max(color='green').highlight_min(color='#ff0000')"
   ]
  },
  {
   "cell_type": "markdown",
   "metadata": {},
   "source": [
    "We use a color gradient to display the data values."
   ]
  },
  {
   "cell_type": "code",
   "execution_count": null,
   "metadata": {},
   "outputs": [],
   "source": [
    "df.head(10).style.format(format_dict).background_gradient(subset=['data science', 'machine learning'], cmap='BuGn')"
   ]
  },
  {
   "cell_type": "markdown",
   "metadata": {},
   "source": [
    "We can also display the data values with bars:"
   ]
  },
  {
   "cell_type": "code",
   "execution_count": null,
   "metadata": {},
   "outputs": [],
   "source": [
    "df.head().style.format(format_dict).bar(color='red', subset=['data science', 'deep learning'])"
   ]
  },
  {
   "cell_type": "markdown",
   "metadata": {},
   "source": [
    "Moreover, we also can combine the above functions and generate a more complex visualization."
   ]
  },
  {
   "cell_type": "code",
   "execution_count": null,
   "metadata": {},
   "outputs": [],
   "source": [
    "df.head(10).style.format(format_dict).background_gradient(subset=['data science', 'machine learning'], cmap='BuGn').highlight_max(color='yellow')"
   ]
  },
  {
   "cell_type": "markdown",
   "metadata": {},
   "source": [
    "There is plenty more to learn about styling visualizations with Pandas here: https://pandas.pydata.org/pandas-docs/stable/user_guide/style.html\n",
    "\n",
    "All of these are for your convenience when working, as some datasets will lend themselves better to certain settings and features here."
   ]
  },
  {
   "cell_type": "markdown",
   "metadata": {},
   "source": [
    "### Pandas Profiling\n",
    "Pandas profiling is a library that generates interactive reports with our data, we can see the distribution of the data, the types of data, possible problems it might have. It is very easy to use, with only 3 lines we can generate a report that we can send to anyone and that can be used even if you do not know programming."
   ]
  },
  {
   "cell_type": "code",
   "execution_count": null,
   "metadata": {},
   "outputs": [],
   "source": [
    "from pandas_profiling import ProfileReport\n",
    "prof = ProfileReport(df)\n",
    "prof.to_file(output_file='report.html')"
   ]
  },
  {
   "cell_type": "markdown",
   "metadata": {},
   "source": [
    "You can see the interactive report as a web page generated from the data used in the article, [here](https://todoia.es/recursos/informe.html).\n",
    "\n",
    "You can find more information about Pandas Profiling in [this article](https://towardsdatascience.com/exploratory-data-analysis-with-pandas-profiling-de3aae2ddff3). This package is best used if you're not an engineer or work mostly with non-engineers, so we will move on here. "
   ]
  },
  {
   "cell_type": "markdown",
   "metadata": {},
   "source": [
    "## Matplotlib\n",
    "\n",
    "Matplotlib is the most basic library for visualizing data graphically. It includes many of the graphs that we can think of. Just because it is basic does not mean that it is not powerful, many of the other data visualization libraries we are going to talk about are based on it.\n",
    "\n",
    "Matplotlib charts are made up of two main components, the axes (the lines that delimit the area of the chart) and the figure (where we draw the axes, titles and things that come out of the area of the axes). Now let’s create the simplest graph possible:\n",
    "\n",
    "_note: The parameter label is to indicate the legend. This doesn't mean that it will be shown, we'll have to use another command that I'll explain later_"
   ]
  },
  {
   "cell_type": "code",
   "execution_count": null,
   "metadata": {},
   "outputs": [],
   "source": [
    "import matplotlib.pyplot as plt\n",
    "plt.plot(df['Mes'], df['data science'], label='data science')"
   ]
  },
  {
   "cell_type": "markdown",
   "metadata": {},
   "source": [
    "We can make graphs with multiple variables in the same plot to compare them."
   ]
  },
  {
   "cell_type": "code",
   "execution_count": null,
   "metadata": {},
   "outputs": [],
   "source": [
    "plt.plot(df['Mes'], df['data science'], label='data science')\n",
    "plt.plot(df['Mes'], df['machine learning'], label='machine learning')\n",
    "plt.plot(df['Mes'], df['deep learning'], label='deep learning')"
   ]
  },
  {
   "cell_type": "markdown",
   "metadata": {},
   "source": [
    "It is not very clear which variable each color represents. We’re going to improve the chart by adding a legend and titles."
   ]
  },
  {
   "cell_type": "code",
   "execution_count": null,
   "metadata": {},
   "outputs": [],
   "source": [
    "plt.plot(df['Mes'], df['data science'], label='data science')\n",
    "plt.plot(df['Mes'], df['machine learning'], label='machine learning')\n",
    "plt.plot(df['Mes'], df['deep learning'], label='deep learning')\n",
    "plt.xlabel('Date')\n",
    "plt.ylabel('Popularity')\n",
    "plt.title('Popularity of AI terms by date')\n",
    "plt.grid(True)\n",
    "plt.legend()"
   ]
  },
  {
   "cell_type": "markdown",
   "metadata": {},
   "source": [
    "If you are looking to run the chart in a separate window, comment in the code below and run it instead. This is not required but may be preferred if you want to save the image of the plot to your computer."
   ]
  },
  {
   "cell_type": "code",
   "execution_count": null,
   "metadata": {},
   "outputs": [],
   "source": [
    "# %matplotlib\n",
    "# plt.plot(df['Mes'], df['data science'], label='data science')\n",
    "# plt.plot(df['Mes'], df['machine learning'], label='machine learning')\n",
    "# plt.plot(df['Mes'], df['deep learning'], label='deep learning')\n",
    "# plt.xlabel('Date')\n",
    "# plt.ylabel('Popularity')\n",
    "# plt.title('Popularity of AI terms by date')\n",
    "# plt.grid(True)\n",
    "# plt.legend()"
   ]
  },
  {
   "cell_type": "markdown",
   "metadata": {},
   "source": [
    "We can make multiple graphics in one figure. This goes very well for comparing charts or for sharing data from several types of charts easily with a single image."
   ]
  },
  {
   "cell_type": "code",
   "execution_count": null,
   "metadata": {},
   "outputs": [],
   "source": [
    "fig, axes = plt.subplots(2,2)\n",
    "axes[0, 0].hist(df['data science'])\n",
    "axes[0, 1].scatter(df['Mes'], df['data science'])\n",
    "axes[1, 0].plot(df['Mes'], df['machine learning'])\n",
    "axes[1, 1].plot(df['Mes'], df['deep learning'])"
   ]
  },
  {
   "cell_type": "markdown",
   "metadata": {},
   "source": [
    "We can draw the graph with different styles for the points of each variable:"
   ]
  },
  {
   "cell_type": "code",
   "execution_count": null,
   "metadata": {},
   "outputs": [],
   "source": [
    "plt.plot(df['Mes'], df['data science'], 'r-')\n",
    "plt.plot(df['Mes'], df['machine learning']*2, 'bs')\n",
    "plt.plot(df['Mes'], df['deep learning']*3, 'g^')"
   ]
  },
  {
   "cell_type": "markdown",
   "metadata": {},
   "source": [
    "Now let’s see a few examples of the different graphics we can do with Matplotlib. We start with a scatterplot:\n"
   ]
  },
  {
   "cell_type": "markdown",
   "metadata": {},
   "source": [
    "Now let’s see a few examples of the different graphics we can do with Matplotlib. We start with a scatterplot:"
   ]
  },
  {
   "cell_type": "code",
   "execution_count": null,
   "metadata": {},
   "outputs": [],
   "source": [
    "plt.scatter(df['data science'], df['machine learning'])"
   ]
  },
  {
   "cell_type": "markdown",
   "metadata": {},
   "source": [
    "Bar charts too:"
   ]
  },
  {
   "cell_type": "code",
   "execution_count": null,
   "metadata": {},
   "outputs": [],
   "source": [
    "plt.bar(df['Mes'], df['machine learning'], width=20)"
   ]
  },
  {
   "cell_type": "markdown",
   "metadata": {},
   "source": [
    "And let's look at some Histograms:"
   ]
  },
  {
   "cell_type": "code",
   "execution_count": null,
   "metadata": {},
   "outputs": [],
   "source": [
    "plt.hist(df['deep learning'], bins=15)"
   ]
  },
  {
   "cell_type": "markdown",
   "metadata": {},
   "source": [
    "Gallery of examples:\n",
    "\n",
    "In this link: https://matplotlib.org/gallery/index.html we can see examples of all types of graphics that can be made with Matplotlib."
   ]
  },
  {
   "cell_type": "markdown",
   "metadata": {},
   "source": [
    "## Seaborn\n",
    "Seaborn is a library based on Matplotlib. It specializes to give us are nicer graphics and functions to make complex types of graphics with just one line of code.\n",
    "\n",
    "We import the library and initialize the style of the graphics with `sns.set()`, without this command the graphics would still have the same style as Matplotlib. We show one of the simplest graphics, a scatterplot"
   ]
  },
  {
   "cell_type": "code",
   "execution_count": null,
   "metadata": {},
   "outputs": [],
   "source": [
    "import seaborn as sns\n",
    "sns.set()\n",
    "sns.scatterplot(x=df['Mes'], y=df['data science'])"
   ]
  },
  {
   "cell_type": "markdown",
   "metadata": {},
   "source": [
    "We can add information of more than two variables in the same graph. For this we use colors and sizes. We also make a different graph according to the value of the category column:"
   ]
  },
  {
   "cell_type": "code",
   "execution_count": null,
   "metadata": {},
   "outputs": [],
   "source": [
    "sns.relplot(x='Mes', y='deep learning', hue='data science', size='machine learning', col='categorical', data=df)"
   ]
  },
  {
   "cell_type": "markdown",
   "metadata": {},
   "source": [
    "One of the most popular graphics provided by Seaborn is the heatmap. It is very common to use it to show all the correlations between variables in a dataset:"
   ]
  },
  {
   "cell_type": "code",
   "execution_count": null,
   "metadata": {},
   "outputs": [],
   "source": [
    "sns.heatmap(df.corr(), annot=True, fmt='.2f')"
   ]
  },
  {
   "cell_type": "markdown",
   "metadata": {},
   "source": [
    "Another of the most popular is the pairplot that shows us the relationships between all the variables. Be careful with this function if you have a large dataset, as it has to show all the data points as many times as there are columns, it means that by increasing the dimensionality of the data, the processing time increases exponentially."
   ]
  },
  {
   "cell_type": "code",
   "execution_count": null,
   "metadata": {},
   "outputs": [],
   "source": [
    "sns.pairplot(df)"
   ]
  },
  {
   "cell_type": "markdown",
   "metadata": {},
   "source": [
    "Now let’s do the pairplot showing the charts segmented according to the values of the _categorical_ variable. This allows yo to see the comparisons from before with the categorical value overlaid."
   ]
  },
  {
   "cell_type": "code",
   "execution_count": null,
   "metadata": {},
   "outputs": [],
   "source": [
    "sns.pairplot(df, hue='categorical')"
   ]
  },
  {
   "cell_type": "markdown",
   "metadata": {},
   "source": [
    "A very informative graph is the jointplot that allows us to see a scatterplot together with a histogram of the two variables and see how they are distributed:"
   ]
  },
  {
   "cell_type": "code",
   "execution_count": null,
   "metadata": {},
   "outputs": [],
   "source": [
    "sns.jointplot(x='data science', y='machine learning', data=df)"
   ]
  },
  {
   "cell_type": "markdown",
   "metadata": {},
   "source": [
    "Another interesting graphic is the ViolinPlot to show distributions next to values at the same time:"
   ]
  },
  {
   "cell_type": "code",
   "execution_count": null,
   "metadata": {},
   "outputs": [],
   "source": [
    "sns.catplot(x='categorical', y='data science', kind='violin', data=df)"
   ]
  },
  {
   "cell_type": "markdown",
   "metadata": {},
   "source": [
    "We can create multiple graphics in one image just like we did with Matplotlib:"
   ]
  },
  {
   "cell_type": "code",
   "execution_count": null,
   "metadata": {},
   "outputs": [],
   "source": [
    "fig, axes = plt.subplots(1, 2, sharey=True, figsize=(8, 4))\n",
    "sns.scatterplot(x=\"Mes\", y=\"deep learning\", hue=\"categorical\", data=df, ax=axes[0])\n",
    "axes[0].set_title('Deep Learning')\n",
    "sns.scatterplot(x=\"Mes\", y=\"machine learning\", hue=\"categorical\", data=df, ax=axes[1])\n",
    "axes[1].set_title('Machine Learning')"
   ]
  },
  {
   "cell_type": "markdown",
   "metadata": {},
   "source": [
    "Gallery of examples:\n",
    "In [this link](https://seaborn.pydata.org/examples/index.html), we can see examples of everything that can be done with Seaborn."
   ]
  },
  {
   "cell_type": "markdown",
   "metadata": {},
   "source": [
    "## Bokeh\n",
    "Bokeh is a library that allows you to generate interactive graphics. We can export them to an HTML document that we can share with anyone who has a web browser.\n",
    "\n",
    "It is a very useful library when we are interested in looking for things in the graphics and we want to be able to zoom in and move around the graphic. Or when we want to share them and give the possibility to explore the data to another person.\n",
    "\n",
    "We start by importing the library and defining the file in which we will save the graph:"
   ]
  },
  {
   "cell_type": "code",
   "execution_count": null,
   "metadata": {},
   "outputs": [],
   "source": [
    "from bokeh.plotting import figure, output_file, save\n",
    "output_file('data_science_popularity.html')"
   ]
  },
  {
   "cell_type": "markdown",
   "metadata": {},
   "source": [
    "We draw what we want and save it on the file:"
   ]
  },
  {
   "cell_type": "code",
   "execution_count": null,
   "metadata": {},
   "outputs": [],
   "source": [
    "p = figure(title='data science', x_axis_label='Mes', y_axis_label='data science')\n",
    "p.line(df['Mes'], df['data science'], legend='popularity', line_width=2)\n",
    "save(p)"
   ]
  },
  {
   "cell_type": "markdown",
   "metadata": {},
   "source": [
    "You can see how the file data_science_popularity.html looks by clicking [here](https://todoia.es/recursos/data_science_popularity.html). It’s interactive, you can move around the graphic and zoom in as you like\n",
    "\n",
    "Adding multiple graphics to a single file:"
   ]
  },
  {
   "cell_type": "code",
   "execution_count": null,
   "metadata": {},
   "outputs": [],
   "source": [
    "output_file('multiple_graphs.html')\n",
    "s1 = figure(width=250, plot_height=250, title='data science')\n",
    "s1.circle(df['Mes'], df['data science'], size=10, color='navy', alpha=0.5)\n",
    "s2 = figure(width=250, height=250, x_range=s1.x_range, y_range=s1.y_range, title='machine learning') #share both axis range\n",
    "s2.triangle(df['Mes'], df['machine learning'], size=10, color='red', alpha=0.5)\n",
    "s3 = figure(width=250, height=250, x_range=s1.x_range, title='deep learning') #share only one axis range\n",
    "s3.square(df['Mes'], df['deep learning'], size=5, color='green', alpha=0.5)\n",
    "p = gridplot([[s1, s2, s3]])\n",
    "save(p)"
   ]
  },
  {
   "cell_type": "code",
   "execution_count": null,
   "metadata": {},
   "outputs": [],
   "source": []
  }
 ],
 "metadata": {
  "kernelspec": {
   "display_name": "Python 3",
   "language": "python",
   "name": "python3"
  },
  "language_info": {
   "codemirror_mode": {
    "name": "ipython",
    "version": 3
   },
   "file_extension": ".py",
   "mimetype": "text/x-python",
   "name": "python",
   "nbconvert_exporter": "python",
   "pygments_lexer": "ipython3",
   "version": "3.7.7"
  }
 },
 "nbformat": 4,
 "nbformat_minor": 4
}
